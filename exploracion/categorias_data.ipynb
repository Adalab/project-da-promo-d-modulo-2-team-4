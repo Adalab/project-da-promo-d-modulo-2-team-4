{
 "cells": [
  {
   "cell_type": "code",
   "execution_count": 1,
   "metadata": {},
   "outputs": [],
   "source": [
    "import pandas as pd\n",
    "import numpy as np\n",
    "import seaborn as sns\n",
    "import matplotlib.pyplot as plt\n",
    "import re\n",
    "\n",
    "pd.options.display.max_columns=None"
   ]
  },
  {
   "cell_type": "code",
   "execution_count": 2,
   "metadata": {},
   "outputs": [
    {
     "data": {
      "text/plain": [
       "(3269, 22)"
      ]
     },
     "execution_count": 2,
     "metadata": {},
     "output_type": "execute_result"
    }
   ],
   "source": [
    "df = pd.read_csv(\"../archivos_editados/df_data.csv\",index_col=0)\n",
    "df.shape"
   ]
  },
  {
   "cell_type": "code",
   "execution_count": 3,
   "metadata": {},
   "outputs": [],
   "source": [
    "df.reset_index(drop= True, inplace= True)"
   ]
  },
  {
   "cell_type": "code",
   "execution_count": 4,
   "metadata": {},
   "outputs": [
    {
     "data": {
      "text/html": [
       "<div>\n",
       "<style scoped>\n",
       "    .dataframe tbody tr th:only-of-type {\n",
       "        vertical-align: middle;\n",
       "    }\n",
       "\n",
       "    .dataframe tbody tr th {\n",
       "        vertical-align: top;\n",
       "    }\n",
       "\n",
       "    .dataframe thead th {\n",
       "        text-align: right;\n",
       "    }\n",
       "</style>\n",
       "<table border=\"1\" class=\"dataframe\">\n",
       "  <thead>\n",
       "    <tr style=\"text-align: right;\">\n",
       "      <th></th>\n",
       "      <th>edad</th>\n",
       "      <th>genero</th>\n",
       "      <th>pais</th>\n",
       "      <th>nivel_estudios</th>\n",
       "      <th>tipo_trabajo</th>\n",
       "      <th>tiempo_cod</th>\n",
       "      <th>len_recom</th>\n",
       "      <th>tiempo_use_ML</th>\n",
       "      <th>sector_empresa</th>\n",
       "      <th>tamaño_empresa</th>\n",
       "      <th>uso_ML</th>\n",
       "      <th>salario</th>\n",
       "      <th>BBDD</th>\n",
       "      <th>herramientas_BI</th>\n",
       "      <th>herramienta_principal</th>\n",
       "      <th>lenguaje_cod</th>\n",
       "      <th>entorno_ID</th>\n",
       "      <th>librerias</th>\n",
       "      <th>librerias_ML</th>\n",
       "      <th>algoritmos_ML</th>\n",
       "      <th>actividades_trabajo</th>\n",
       "      <th>herramientas_BI2</th>\n",
       "    </tr>\n",
       "  </thead>\n",
       "  <tbody>\n",
       "    <tr>\n",
       "      <th>0</th>\n",
       "      <td>50-54</td>\n",
       "      <td>Man</td>\n",
       "      <td>Belgium</td>\n",
       "      <td>Bachelor’s degree</td>\n",
       "      <td>Data Analyst</td>\n",
       "      <td>20+ years</td>\n",
       "      <td>Python</td>\n",
       "      <td>1-2 years</td>\n",
       "      <td>Energy/Mining</td>\n",
       "      <td>1000-9,999 employees</td>\n",
       "      <td>We are exploring ML methods (and may one day p...</td>\n",
       "      <td>2,000-2,999</td>\n",
       "      <td>NaN</td>\n",
       "      <td>NaN</td>\n",
       "      <td>Local development environments (RStudio, Jupyt...</td>\n",
       "      <td>Python, SQL</td>\n",
       "      <td>Jupyter (JupyterLab, Jupyter Notebooks, etc) ,...</td>\n",
       "      <td>Matplotlib ,Seaborn ,Plotly / Plotly Express</td>\n",
       "      <td>Scikit-learn</td>\n",
       "      <td>Linear or Logistic Regression</td>\n",
       "      <td>Analyze and understand data to influence produ...</td>\n",
       "      <td>NaN</td>\n",
       "    </tr>\n",
       "    <tr>\n",
       "      <th>1</th>\n",
       "      <td>22-24</td>\n",
       "      <td>Nonbinary</td>\n",
       "      <td>United States of America</td>\n",
       "      <td>Some college/university study without earning ...</td>\n",
       "      <td>Data Analyst</td>\n",
       "      <td>&lt; 1 years</td>\n",
       "      <td>R</td>\n",
       "      <td>I do not use machine learning methods</td>\n",
       "      <td>Manufacturing/Fabrication</td>\n",
       "      <td>250-999 employees</td>\n",
       "      <td>NaN</td>\n",
       "      <td>NaN</td>\n",
       "      <td>NaN</td>\n",
       "      <td>NaN</td>\n",
       "      <td>NaN</td>\n",
       "      <td>R</td>\n",
       "      <td>RStudio</td>\n",
       "      <td>Ggplot / ggplot2</td>\n",
       "      <td>NaN</td>\n",
       "      <td>NaN</td>\n",
       "      <td>NaN</td>\n",
       "      <td>NaN</td>\n",
       "    </tr>\n",
       "    <tr>\n",
       "      <th>2</th>\n",
       "      <td>30-34</td>\n",
       "      <td>Woman</td>\n",
       "      <td>Egypt</td>\n",
       "      <td>Bachelor’s degree</td>\n",
       "      <td>Data Analyst</td>\n",
       "      <td>3-5 years</td>\n",
       "      <td>R</td>\n",
       "      <td>I do not use machine learning methods</td>\n",
       "      <td>Non-profit/Service</td>\n",
       "      <td>0-49 employees</td>\n",
       "      <td>No (we do not use ML methods)</td>\n",
       "      <td>7,500-9,999</td>\n",
       "      <td>NaN</td>\n",
       "      <td>None</td>\n",
       "      <td>Basic statistical software (Microsoft Excel, G...</td>\n",
       "      <td>Python</td>\n",
       "      <td>Notepad++,Jupyter Notebook</td>\n",
       "      <td>None</td>\n",
       "      <td>NaN</td>\n",
       "      <td>NaN</td>\n",
       "      <td>Analyze and understand data to influence produ...</td>\n",
       "      <td>NaN</td>\n",
       "    </tr>\n",
       "  </tbody>\n",
       "</table>\n",
       "</div>"
      ],
      "text/plain": [
       "    edad     genero                      pais  \\\n",
       "0  50-54        Man                   Belgium   \n",
       "1  22-24  Nonbinary  United States of America   \n",
       "2  30-34      Woman                     Egypt   \n",
       "\n",
       "                                      nivel_estudios  tipo_trabajo tiempo_cod  \\\n",
       "0                                  Bachelor’s degree  Data Analyst  20+ years   \n",
       "1  Some college/university study without earning ...  Data Analyst  < 1 years   \n",
       "2                                  Bachelor’s degree  Data Analyst  3-5 years   \n",
       "\n",
       "  len_recom                          tiempo_use_ML             sector_empresa  \\\n",
       "0    Python                              1-2 years              Energy/Mining   \n",
       "1         R  I do not use machine learning methods  Manufacturing/Fabrication   \n",
       "2         R  I do not use machine learning methods         Non-profit/Service   \n",
       "\n",
       "         tamaño_empresa                                             uso_ML  \\\n",
       "0  1000-9,999 employees  We are exploring ML methods (and may one day p...   \n",
       "1     250-999 employees                                                NaN   \n",
       "2        0-49 employees                      No (we do not use ML methods)   \n",
       "\n",
       "       salario BBDD herramientas_BI  \\\n",
       "0  2,000-2,999  NaN             NaN   \n",
       "1          NaN  NaN             NaN   \n",
       "2  7,500-9,999  NaN            None   \n",
       "\n",
       "                               herramienta_principal lenguaje_cod  \\\n",
       "0  Local development environments (RStudio, Jupyt...  Python, SQL   \n",
       "1                                                NaN            R   \n",
       "2  Basic statistical software (Microsoft Excel, G...       Python   \n",
       "\n",
       "                                          entorno_ID  \\\n",
       "0  Jupyter (JupyterLab, Jupyter Notebooks, etc) ,...   \n",
       "1                                           RStudio    \n",
       "2                         Notepad++,Jupyter Notebook   \n",
       "\n",
       "                                        librerias   librerias_ML  \\\n",
       "0   Matplotlib ,Seaborn ,Plotly / Plotly Express   Scikit-learn    \n",
       "1                               Ggplot / ggplot2             NaN   \n",
       "2                                            None            NaN   \n",
       "\n",
       "                   algoritmos_ML  \\\n",
       "0  Linear or Logistic Regression   \n",
       "1                            NaN   \n",
       "2                            NaN   \n",
       "\n",
       "                                 actividades_trabajo herramientas_BI2  \n",
       "0  Analyze and understand data to influence produ...              NaN  \n",
       "1                                                NaN              NaN  \n",
       "2  Analyze and understand data to influence produ...              NaN  "
      ]
     },
     "execution_count": 4,
     "metadata": {},
     "output_type": "execute_result"
    }
   ],
   "source": [
    "df.head(3)"
   ]
  },
  {
   "cell_type": "code",
   "execution_count": 5,
   "metadata": {},
   "outputs": [
    {
     "data": {
      "text/plain": [
       "array(['20+ years', '< 1 years', '3-5 years', '1-3 years', '5-10 years',\n",
       "       'I have never written code', '10-20 years'], dtype=object)"
      ]
     },
     "execution_count": 5,
     "metadata": {},
     "output_type": "execute_result"
    }
   ],
   "source": [
    "df[\"tiempo_cod\"].unique()"
   ]
  },
  {
   "cell_type": "code",
   "execution_count": 6,
   "metadata": {},
   "outputs": [],
   "source": [
    "condiciones1 = [(df['tiempo_cod'] == 'I have never written code'),\n",
    "                (df['tiempo_cod'] == '< 1 years') | (df['tiempo_cod'] == '1-3 years'),\n",
    "                (df['tiempo_cod'] == '3-5 years') | (df['tiempo_cod'] == '5-10 years'),\n",
    "                (df['tiempo_cod'] == '10-20 years') | (df['tiempo_cod'] == '20+ years')]"
   ]
  },
  {
   "cell_type": "code",
   "execution_count": 7,
   "metadata": {},
   "outputs": [],
   "source": [
    "opciones1 = ['0', '1-3', '3-10', \"+10\"]"
   ]
  },
  {
   "cell_type": "code",
   "execution_count": 8,
   "metadata": {},
   "outputs": [],
   "source": [
    "df[\"tiempo_cod\"] = np.select(condiciones1, opciones1)"
   ]
  },
  {
   "cell_type": "code",
   "execution_count": 9,
   "metadata": {},
   "outputs": [
    {
     "data": {
      "text/plain": [
       "array(['1000-9,999 employees', '250-999 employees', '0-49 employees',\n",
       "       '50-249 employees', '10,000 or more employees', nan], dtype=object)"
      ]
     },
     "execution_count": 9,
     "metadata": {},
     "output_type": "execute_result"
    }
   ],
   "source": [
    "df[\"tamaño_empresa\"].unique()"
   ]
  },
  {
   "cell_type": "code",
   "execution_count": 10,
   "metadata": {},
   "outputs": [],
   "source": [
    "condiciones2 = [df['tamaño_empresa'] == '0-49 employees',\n",
    "                df['tamaño_empresa'] == '50-249 employees',\n",
    "                df['tamaño_empresa'] == '250-999 employees',\n",
    "                (df['tamaño_empresa'] == '1000-9,999 employees') |(df['tamaño_empresa'] == '10,000 or more employees')]\n",
    "\n",
    "opciones2 = ['Pequeña', 'Mediana', 'Grande', 'Enorme']"
   ]
  },
  {
   "cell_type": "code",
   "execution_count": 11,
   "metadata": {},
   "outputs": [],
   "source": [
    "df[\"tamaño_empresa\"] = np.select(condiciones2, opciones2, default = \"Unkown\")"
   ]
  },
  {
   "cell_type": "code",
   "execution_count": 13,
   "metadata": {},
   "outputs": [
    {
     "data": {
      "text/plain": [
       "array(['2,000-2,999', nan, '7,500-9,999', '$0-999', '25,000-29,999',\n",
       "       '60,000-69,999', '20,000-24,999', '1,000-1,999', '100,000-124,999',\n",
       "       '125,000-149,999', '5,000-7,499', '70,000-79,999', '10,000-14,999',\n",
       "       '30,000-39,999', '15,000-19,999', '3,000-3,999', '4,000-4,999',\n",
       "       '40,000-49,999', '200,000-249,999', '80,000-89,999',\n",
       "       '50,000-59,999', '150,000-199,999', '90,000-99,999',\n",
       "       '250,000-299,999', '>$1,000,000', '300,000-499,999',\n",
       "       '$500,000-999,999'], dtype=object)"
      ]
     },
     "execution_count": 13,
     "metadata": {},
     "output_type": "execute_result"
    }
   ],
   "source": [
    "df[\"salario\"].unique()"
   ]
  },
  {
   "cell_type": "code",
   "execution_count": null,
   "metadata": {},
   "outputs": [],
   "source": []
  }
 ],
 "metadata": {
  "kernelspec": {
   "display_name": "base",
   "language": "python",
   "name": "python3"
  },
  "language_info": {
   "codemirror_mode": {
    "name": "ipython",
    "version": 3
   },
   "file_extension": ".py",
   "mimetype": "text/x-python",
   "name": "python",
   "nbconvert_exporter": "python",
   "pygments_lexer": "ipython3",
   "version": "3.9.7"
  },
  "orig_nbformat": 4
 },
 "nbformat": 4,
 "nbformat_minor": 2
}
