{
 "cells": [
  {
   "cell_type": "code",
   "execution_count": 1,
   "metadata": {},
   "outputs": [],
   "source": [
    "import pandas as pd\n",
    "import numpy as np\n",
    "import seaborn as sns\n",
    "import matplotlib.pyplot as plt\n",
    "import re"
   ]
  },
  {
   "cell_type": "code",
   "execution_count": 2,
   "metadata": {},
   "outputs": [],
   "source": [
    "pd.options.display.max_columns=None"
   ]
  },
  {
   "cell_type": "code",
   "execution_count": 3,
   "metadata": {},
   "outputs": [
    {
     "data": {
      "text/plain": [
       "(25973, 22)"
      ]
     },
     "execution_count": 3,
     "metadata": {},
     "output_type": "execute_result"
    }
   ],
   "source": [
    "df = pd.read_csv(\"../archivos_editados/df_completo.csv\",index_col=0)\n",
    "df.shape"
   ]
  },
  {
   "cell_type": "code",
   "execution_count": 4,
   "metadata": {},
   "outputs": [
    {
     "data": {
      "text/plain": [
       "10"
      ]
     },
     "execution_count": 4,
     "metadata": {},
     "output_type": "execute_result"
    }
   ],
   "source": [
    "df.duplicated().sum()"
   ]
  },
  {
   "cell_type": "code",
   "execution_count": 5,
   "metadata": {},
   "outputs": [],
   "source": [
    "df.drop_duplicates(inplace= True)"
   ]
  },
  {
   "cell_type": "code",
   "execution_count": 6,
   "metadata": {},
   "outputs": [],
   "source": [
    "dic_columnas={'Q3':\"pais\", \n",
    "              'Q4':\"nivel_estudios\", \n",
    "              'Q5':\"tipo_trabajo\",\n",
    "              'Q6':\"tiempo_cod\", \n",
    "              'Q8':\"len_recom\",\n",
    "              'Q15':\"tiempo_use_ML\",\n",
    "              'Q20':\"sector_empresa\", \n",
    "              'Q21':\"tamaño_empresa\", \n",
    "              'Q23':\"uso_ML\", \n",
    "              'Q25':\"salario\", \n",
    "              'Q33':\"BBDD\",\n",
    "              'Q35':\"herramientas_BI2\", \n",
    "              'Q41':\"herramienta_principal\", \n",
    "              'Q7':\"lenguaje_cod\", \n",
    "              'Q9':\"entorno_ID\", \n",
    "              'Q14':\"librerias\", \n",
    "              'Q16':\"librerias_ML\", \n",
    "              'Q17':\"algoritmos_ML\", \n",
    "              'Q24':\"actividades_trabajo\", \n",
    "              'Q34':\"herramientas_BI\",\n",
    "              'age':\"edad\", \n",
    "              'gender':\"genero\"}"
   ]
  },
  {
   "cell_type": "code",
   "execution_count": 7,
   "metadata": {},
   "outputs": [],
   "source": [
    "df.rename(columns=dic_columnas, inplace=True)\n"
   ]
  },
  {
   "cell_type": "code",
   "execution_count": 8,
   "metadata": {},
   "outputs": [],
   "source": [
    "df = df.reset_index(drop = True)\n"
   ]
  },
  {
   "cell_type": "code",
   "execution_count": 9,
   "metadata": {},
   "outputs": [],
   "source": [
    "nuevo_orden=['edad','genero', 'pais', 'nivel_estudios', 'tipo_trabajo', 'tiempo_cod', 'len_recom',\n",
    "       'tiempo_use_ML', 'sector_empresa', 'tamaño_empresa', 'uso_ML',\n",
    "       'salario', 'BBDD', 'herramientas_BI', 'herramienta_principal',\n",
    "       'lenguaje_cod', 'entorno_ID', 'librerias', 'librerias_ML',\n",
    "       'algoritmos_ML', 'actividades_trabajo', 'herramientas_BI2']"
   ]
  },
  {
   "cell_type": "code",
   "execution_count": 10,
   "metadata": {},
   "outputs": [],
   "source": [
    "df = df.reindex(columns = nuevo_orden)\n"
   ]
  },
  {
   "attachments": {},
   "cell_type": "markdown",
   "metadata": {},
   "source": [
    "CREAMOS UN FATAFRAME NUEVO QUEDÁNDONOS SOLO CON LOS DATA Y BUSINESS ANALYST"
   ]
  },
  {
   "cell_type": "code",
   "execution_count": 11,
   "metadata": {},
   "outputs": [
    {
     "data": {
      "text/html": [
       "<div>\n",
       "<style scoped>\n",
       "    .dataframe tbody tr th:only-of-type {\n",
       "        vertical-align: middle;\n",
       "    }\n",
       "\n",
       "    .dataframe tbody tr th {\n",
       "        vertical-align: top;\n",
       "    }\n",
       "\n",
       "    .dataframe thead th {\n",
       "        text-align: right;\n",
       "    }\n",
       "</style>\n",
       "<table border=\"1\" class=\"dataframe\">\n",
       "  <thead>\n",
       "    <tr style=\"text-align: right;\">\n",
       "      <th></th>\n",
       "      <th>edad</th>\n",
       "      <th>genero</th>\n",
       "      <th>pais</th>\n",
       "      <th>nivel_estudios</th>\n",
       "      <th>tipo_trabajo</th>\n",
       "      <th>tiempo_cod</th>\n",
       "      <th>len_recom</th>\n",
       "      <th>tiempo_use_ML</th>\n",
       "      <th>sector_empresa</th>\n",
       "      <th>tamaño_empresa</th>\n",
       "      <th>uso_ML</th>\n",
       "      <th>salario</th>\n",
       "      <th>BBDD</th>\n",
       "      <th>herramientas_BI</th>\n",
       "      <th>herramienta_principal</th>\n",
       "      <th>lenguaje_cod</th>\n",
       "      <th>entorno_ID</th>\n",
       "      <th>librerias</th>\n",
       "      <th>librerias_ML</th>\n",
       "      <th>algoritmos_ML</th>\n",
       "      <th>actividades_trabajo</th>\n",
       "      <th>herramientas_BI2</th>\n",
       "    </tr>\n",
       "  </thead>\n",
       "  <tbody>\n",
       "    <tr>\n",
       "      <th>16</th>\n",
       "      <td>50-54</td>\n",
       "      <td>Man</td>\n",
       "      <td>Belgium</td>\n",
       "      <td>Bachelor’s degree</td>\n",
       "      <td>Data Analyst</td>\n",
       "      <td>20+ years</td>\n",
       "      <td>Python</td>\n",
       "      <td>1-2 years</td>\n",
       "      <td>Energy/Mining</td>\n",
       "      <td>1000-9,999 employees</td>\n",
       "      <td>We are exploring ML methods (and may one day p...</td>\n",
       "      <td>2,000-2,999</td>\n",
       "      <td>NaN</td>\n",
       "      <td>NaN</td>\n",
       "      <td>Local development environments (RStudio, Jupyt...</td>\n",
       "      <td>Python, SQL</td>\n",
       "      <td>Jupyter (JupyterLab, Jupyter Notebooks, etc) ,...</td>\n",
       "      <td>Matplotlib ,Seaborn ,Plotly / Plotly Express</td>\n",
       "      <td>Scikit-learn</td>\n",
       "      <td>Linear or Logistic Regression</td>\n",
       "      <td>Analyze and understand data to influence produ...</td>\n",
       "      <td>NaN</td>\n",
       "    </tr>\n",
       "    <tr>\n",
       "      <th>32</th>\n",
       "      <td>22-24</td>\n",
       "      <td>Nonbinary</td>\n",
       "      <td>United States of America</td>\n",
       "      <td>Some college/university study without earning ...</td>\n",
       "      <td>Data Analyst</td>\n",
       "      <td>&lt; 1 years</td>\n",
       "      <td>R</td>\n",
       "      <td>I do not use machine learning methods</td>\n",
       "      <td>Manufacturing/Fabrication</td>\n",
       "      <td>250-999 employees</td>\n",
       "      <td>NaN</td>\n",
       "      <td>NaN</td>\n",
       "      <td>NaN</td>\n",
       "      <td>NaN</td>\n",
       "      <td>NaN</td>\n",
       "      <td>R</td>\n",
       "      <td>RStudio</td>\n",
       "      <td>Ggplot / ggplot2</td>\n",
       "      <td>NaN</td>\n",
       "      <td>NaN</td>\n",
       "      <td>NaN</td>\n",
       "      <td>NaN</td>\n",
       "    </tr>\n",
       "    <tr>\n",
       "      <th>33</th>\n",
       "      <td>30-34</td>\n",
       "      <td>Woman</td>\n",
       "      <td>Egypt</td>\n",
       "      <td>Bachelor’s degree</td>\n",
       "      <td>Data Analyst</td>\n",
       "      <td>3-5 years</td>\n",
       "      <td>R</td>\n",
       "      <td>I do not use machine learning methods</td>\n",
       "      <td>Non-profit/Service</td>\n",
       "      <td>0-49 employees</td>\n",
       "      <td>No (we do not use ML methods)</td>\n",
       "      <td>7,500-9,999</td>\n",
       "      <td>NaN</td>\n",
       "      <td>None</td>\n",
       "      <td>Basic statistical software (Microsoft Excel, G...</td>\n",
       "      <td>Python</td>\n",
       "      <td>Notepad++,Jupyter Notebook</td>\n",
       "      <td>None</td>\n",
       "      <td>NaN</td>\n",
       "      <td>NaN</td>\n",
       "      <td>Analyze and understand data to influence produ...</td>\n",
       "      <td>NaN</td>\n",
       "    </tr>\n",
       "    <tr>\n",
       "      <th>46</th>\n",
       "      <td>22-24</td>\n",
       "      <td>Man</td>\n",
       "      <td>China</td>\n",
       "      <td>Some college/university study without earning ...</td>\n",
       "      <td>Data Analyst</td>\n",
       "      <td>&lt; 1 years</td>\n",
       "      <td>Python</td>\n",
       "      <td>1-2 years</td>\n",
       "      <td>Computers/Technology</td>\n",
       "      <td>0-49 employees</td>\n",
       "      <td>No (we do not use ML methods)</td>\n",
       "      <td>$0-999</td>\n",
       "      <td>NaN</td>\n",
       "      <td>NaN</td>\n",
       "      <td>Basic statistical software (Microsoft Excel, G...</td>\n",
       "      <td>Python, SQL, C, C++, Java, Javascript, MATLAB</td>\n",
       "      <td>Jupyter (JupyterLab, Jupyter Notebooks, etc) ,...</td>\n",
       "      <td>Matplotlib ,Plotly / Plotly Express</td>\n",
       "      <td>Scikit-learn , TensorFlow ,Keras ,PyTorch</td>\n",
       "      <td>Linear or Logistic Regression, Decision Trees ...</td>\n",
       "      <td>Analyze and understand data to influence produ...</td>\n",
       "      <td>NaN</td>\n",
       "    </tr>\n",
       "    <tr>\n",
       "      <th>52</th>\n",
       "      <td>40-44</td>\n",
       "      <td>Man</td>\n",
       "      <td>South Africa</td>\n",
       "      <td>Master’s degree</td>\n",
       "      <td>Data Analyst</td>\n",
       "      <td>1-3 years</td>\n",
       "      <td>R</td>\n",
       "      <td>1-2 years</td>\n",
       "      <td>Manufacturing/Fabrication</td>\n",
       "      <td>250-999 employees</td>\n",
       "      <td>No (we do not use ML methods)</td>\n",
       "      <td>25,000-29,999</td>\n",
       "      <td>NaN</td>\n",
       "      <td>Microsoft Power BI</td>\n",
       "      <td>Local development environments (RStudio, Jupyt...</td>\n",
       "      <td>R, SQL</td>\n",
       "      <td>RStudio ,Jupyter Notebook</td>\n",
       "      <td>Plotly / Plotly Express ,Ggplot / ggplot2 ,Shiny</td>\n",
       "      <td>Caret ,Tidymodels</td>\n",
       "      <td>Linear or Logistic Regression, Decision Trees ...</td>\n",
       "      <td>Analyze and understand data to influence produ...</td>\n",
       "      <td>NaN</td>\n",
       "    </tr>\n",
       "  </tbody>\n",
       "</table>\n",
       "</div>"
      ],
      "text/plain": [
       "     edad     genero                      pais  \\\n",
       "16  50-54        Man                   Belgium   \n",
       "32  22-24  Nonbinary  United States of America   \n",
       "33  30-34      Woman                     Egypt   \n",
       "46  22-24        Man                     China   \n",
       "52  40-44        Man              South Africa   \n",
       "\n",
       "                                       nivel_estudios  tipo_trabajo  \\\n",
       "16                                  Bachelor’s degree  Data Analyst   \n",
       "32  Some college/university study without earning ...  Data Analyst   \n",
       "33                                  Bachelor’s degree  Data Analyst   \n",
       "46  Some college/university study without earning ...  Data Analyst   \n",
       "52                                    Master’s degree  Data Analyst   \n",
       "\n",
       "   tiempo_cod len_recom                          tiempo_use_ML  \\\n",
       "16  20+ years    Python                              1-2 years   \n",
       "32  < 1 years         R  I do not use machine learning methods   \n",
       "33  3-5 years         R  I do not use machine learning methods   \n",
       "46  < 1 years    Python                              1-2 years   \n",
       "52  1-3 years         R                              1-2 years   \n",
       "\n",
       "               sector_empresa        tamaño_empresa  \\\n",
       "16              Energy/Mining  1000-9,999 employees   \n",
       "32  Manufacturing/Fabrication     250-999 employees   \n",
       "33         Non-profit/Service        0-49 employees   \n",
       "46       Computers/Technology        0-49 employees   \n",
       "52  Manufacturing/Fabrication     250-999 employees   \n",
       "\n",
       "                                               uso_ML        salario BBDD  \\\n",
       "16  We are exploring ML methods (and may one day p...    2,000-2,999  NaN   \n",
       "32                                                NaN            NaN  NaN   \n",
       "33                      No (we do not use ML methods)    7,500-9,999  NaN   \n",
       "46                      No (we do not use ML methods)         $0-999  NaN   \n",
       "52                      No (we do not use ML methods)  25,000-29,999  NaN   \n",
       "\n",
       "        herramientas_BI                              herramienta_principal  \\\n",
       "16                  NaN  Local development environments (RStudio, Jupyt...   \n",
       "32                  NaN                                                NaN   \n",
       "33                 None  Basic statistical software (Microsoft Excel, G...   \n",
       "46                  NaN  Basic statistical software (Microsoft Excel, G...   \n",
       "52   Microsoft Power BI  Local development environments (RStudio, Jupyt...   \n",
       "\n",
       "                                     lenguaje_cod  \\\n",
       "16                                    Python, SQL   \n",
       "32                                              R   \n",
       "33                                         Python   \n",
       "46  Python, SQL, C, C++, Java, Javascript, MATLAB   \n",
       "52                                         R, SQL   \n",
       "\n",
       "                                           entorno_ID  \\\n",
       "16  Jupyter (JupyterLab, Jupyter Notebooks, etc) ,...   \n",
       "32                                           RStudio    \n",
       "33                         Notepad++,Jupyter Notebook   \n",
       "46  Jupyter (JupyterLab, Jupyter Notebooks, etc) ,...   \n",
       "52                          RStudio ,Jupyter Notebook   \n",
       "\n",
       "                                            librerias  \\\n",
       "16      Matplotlib ,Seaborn ,Plotly / Plotly Express    \n",
       "32                                  Ggplot / ggplot2    \n",
       "33                                               None   \n",
       "46               Matplotlib ,Plotly / Plotly Express    \n",
       "52  Plotly / Plotly Express ,Ggplot / ggplot2 ,Shiny    \n",
       "\n",
       "                                  librerias_ML  \\\n",
       "16                               Scikit-learn    \n",
       "32                                         NaN   \n",
       "33                                         NaN   \n",
       "46  Scikit-learn , TensorFlow ,Keras ,PyTorch    \n",
       "52                          Caret ,Tidymodels    \n",
       "\n",
       "                                        algoritmos_ML  \\\n",
       "16                      Linear or Logistic Regression   \n",
       "32                                                NaN   \n",
       "33                                                NaN   \n",
       "46  Linear or Logistic Regression, Decision Trees ...   \n",
       "52  Linear or Logistic Regression, Decision Trees ...   \n",
       "\n",
       "                                  actividades_trabajo herramientas_BI2  \n",
       "16  Analyze and understand data to influence produ...              NaN  \n",
       "32                                                NaN              NaN  \n",
       "33  Analyze and understand data to influence produ...              NaN  \n",
       "46  Analyze and understand data to influence produ...              NaN  \n",
       "52  Analyze and understand data to influence produ...              NaN  "
      ]
     },
     "execution_count": 11,
     "metadata": {},
     "output_type": "execute_result"
    }
   ],
   "source": [
    "df_data = df[(df[\"tipo_trabajo\"] == \"Business Analyst\") | (df [\"tipo_trabajo\"] == \"Data Analyst\")]\n",
    "df_data.head(5)"
   ]
  },
  {
   "attachments": {},
   "cell_type": "markdown",
   "metadata": {},
   "source": [
    "VAMOS A FILTRAR POR LA COLUMNA \"lenguaje_cod\" PARA VER LOS LENGUAJES MÁS UTILIZADOS"
   ]
  },
  {
   "attachments": {},
   "cell_type": "markdown",
   "metadata": {},
   "source": [
    "QUE LENGUAJES SE UTILIZAN MÁS"
   ]
  },
  {
   "cell_type": "code",
   "execution_count": 12,
   "metadata": {},
   "outputs": [],
   "source": [
    "lista_lenguajes = [\"Python\", \"R\", \"SQL\", \"C[^\\+]\", \"C\\+\\+\" ,\"Java\", \"Javascript\", \"Julia\", \"Swift\", \"Bash\", \"MATLAB\", \"Other\", \"None\" ]\n"
   ]
  },
  {
   "cell_type": "code",
   "execution_count": 13,
   "metadata": {},
   "outputs": [
    {
     "data": {
      "text/plain": [
       "['Python',\n",
       " 'R',\n",
       " 'SQL',\n",
       " 'C[^\\\\+]',\n",
       " 'C\\\\+\\\\+',\n",
       " 'Java',\n",
       " 'Javascript',\n",
       " 'Julia',\n",
       " 'Swift',\n",
       " 'Bash',\n",
       " 'MATLAB',\n",
       " 'Other',\n",
       " 'None']"
      ]
     },
     "execution_count": 13,
     "metadata": {},
     "output_type": "execute_result"
    }
   ],
   "source": [
    "lista_lenguajes"
   ]
  },
  {
   "cell_type": "code",
   "execution_count": 14,
   "metadata": {},
   "outputs": [],
   "source": [
    "#CREAMOS UNA FUNCION PARA ITERAR POR TODA LA COLUMNA\n",
    "\n",
    "def lenguajes (columna,lista):\n",
    "    valores = []\n",
    "    for elemento in lista:\n",
    "        valor = columna.str.contains(elemento, case = True, regex = True).sum() \n",
    "        valores.append(valor)\n",
    "    return valores"
   ]
  },
  {
   "cell_type": "code",
   "execution_count": 15,
   "metadata": {},
   "outputs": [],
   "source": [
    "lista_valores = lenguajes(df_data[\"lenguaje_cod\"], lista_lenguajes)"
   ]
  },
  {
   "cell_type": "code",
   "execution_count": 16,
   "metadata": {},
   "outputs": [
    {
     "data": {
      "text/plain": [
       "[2465, 928, 1866, 192, 288, 505, 327, 21, 20, 131, 230, 300, 59]"
      ]
     },
     "execution_count": 16,
     "metadata": {},
     "output_type": "execute_result"
    }
   ],
   "source": [
    "lista_valores"
   ]
  },
  {
   "cell_type": "code",
   "execution_count": 17,
   "metadata": {},
   "outputs": [],
   "source": [
    "lista_data = lista_lenguajes , lista_valores"
   ]
  },
  {
   "cell_type": "code",
   "execution_count": 18,
   "metadata": {},
   "outputs": [
    {
     "data": {
      "text/plain": [
       "(['Python',\n",
       "  'R',\n",
       "  'SQL',\n",
       "  'C[^\\\\+]',\n",
       "  'C\\\\+\\\\+',\n",
       "  'Java',\n",
       "  'Javascript',\n",
       "  'Julia',\n",
       "  'Swift',\n",
       "  'Bash',\n",
       "  'MATLAB',\n",
       "  'Other',\n",
       "  'None'],\n",
       " [2465, 928, 1866, 192, 288, 505, 327, 21, 20, 131, 230, 300, 59])"
      ]
     },
     "execution_count": 18,
     "metadata": {},
     "output_type": "execute_result"
    }
   ],
   "source": [
    "lista_data"
   ]
  },
  {
   "cell_type": "code",
   "execution_count": 19,
   "metadata": {},
   "outputs": [],
   "source": [
    "df_lenguajes = pd.DataFrame(lista_data).T"
   ]
  },
  {
   "cell_type": "code",
   "execution_count": 20,
   "metadata": {},
   "outputs": [],
   "source": [
    "nombre_columnas = {0: \"lenguajes\", 1: \"Cantidad_de_usuarios\"} ## cambiamos el nombre a las columnas"
   ]
  },
  {
   "cell_type": "code",
   "execution_count": 21,
   "metadata": {},
   "outputs": [],
   "source": [
    "df_lenguajes.rename(columns = nombre_columnas, inplace = True)"
   ]
  },
  {
   "cell_type": "code",
   "execution_count": 22,
   "metadata": {},
   "outputs": [
    {
     "data": {
      "text/html": [
       "<div>\n",
       "<style scoped>\n",
       "    .dataframe tbody tr th:only-of-type {\n",
       "        vertical-align: middle;\n",
       "    }\n",
       "\n",
       "    .dataframe tbody tr th {\n",
       "        vertical-align: top;\n",
       "    }\n",
       "\n",
       "    .dataframe thead th {\n",
       "        text-align: right;\n",
       "    }\n",
       "</style>\n",
       "<table border=\"1\" class=\"dataframe\">\n",
       "  <thead>\n",
       "    <tr style=\"text-align: right;\">\n",
       "      <th></th>\n",
       "      <th>lenguajes</th>\n",
       "      <th>Cantidad_de_usuarios</th>\n",
       "    </tr>\n",
       "  </thead>\n",
       "  <tbody>\n",
       "    <tr>\n",
       "      <th>0</th>\n",
       "      <td>Python</td>\n",
       "      <td>2465</td>\n",
       "    </tr>\n",
       "    <tr>\n",
       "      <th>2</th>\n",
       "      <td>SQL</td>\n",
       "      <td>1866</td>\n",
       "    </tr>\n",
       "    <tr>\n",
       "      <th>1</th>\n",
       "      <td>R</td>\n",
       "      <td>928</td>\n",
       "    </tr>\n",
       "    <tr>\n",
       "      <th>5</th>\n",
       "      <td>Java</td>\n",
       "      <td>505</td>\n",
       "    </tr>\n",
       "    <tr>\n",
       "      <th>6</th>\n",
       "      <td>Javascript</td>\n",
       "      <td>327</td>\n",
       "    </tr>\n",
       "    <tr>\n",
       "      <th>11</th>\n",
       "      <td>Other</td>\n",
       "      <td>300</td>\n",
       "    </tr>\n",
       "    <tr>\n",
       "      <th>4</th>\n",
       "      <td>C\\+\\+</td>\n",
       "      <td>288</td>\n",
       "    </tr>\n",
       "    <tr>\n",
       "      <th>10</th>\n",
       "      <td>MATLAB</td>\n",
       "      <td>230</td>\n",
       "    </tr>\n",
       "    <tr>\n",
       "      <th>3</th>\n",
       "      <td>C[^\\+]</td>\n",
       "      <td>192</td>\n",
       "    </tr>\n",
       "    <tr>\n",
       "      <th>9</th>\n",
       "      <td>Bash</td>\n",
       "      <td>131</td>\n",
       "    </tr>\n",
       "    <tr>\n",
       "      <th>12</th>\n",
       "      <td>None</td>\n",
       "      <td>59</td>\n",
       "    </tr>\n",
       "    <tr>\n",
       "      <th>7</th>\n",
       "      <td>Julia</td>\n",
       "      <td>21</td>\n",
       "    </tr>\n",
       "    <tr>\n",
       "      <th>8</th>\n",
       "      <td>Swift</td>\n",
       "      <td>20</td>\n",
       "    </tr>\n",
       "  </tbody>\n",
       "</table>\n",
       "</div>"
      ],
      "text/plain": [
       "     lenguajes Cantidad_de_usuarios\n",
       "0       Python                 2465\n",
       "2          SQL                 1866\n",
       "1            R                  928\n",
       "5         Java                  505\n",
       "6   Javascript                  327\n",
       "11       Other                  300\n",
       "4        C\\+\\+                  288\n",
       "10      MATLAB                  230\n",
       "3       C[^\\+]                  192\n",
       "9         Bash                  131\n",
       "12        None                   59\n",
       "7        Julia                   21\n",
       "8        Swift                   20"
      ]
     },
     "execution_count": 22,
     "metadata": {},
     "output_type": "execute_result"
    }
   ],
   "source": [
    "df_lenguajes = df_lenguajes.sort_values(by = \"Cantidad_de_usuarios\", ascending = False)\n",
    "df_lenguajes"
   ]
  },
  {
   "attachments": {},
   "cell_type": "markdown",
   "metadata": {},
   "source": [
    "    Los lenguajes más utilizados claramente son Python y SQL, que son los mismos que utiliza Adalab. Creamos una gráfica para su mejor visualización."
   ]
  },
  {
   "cell_type": "code",
   "execution_count": 23,
   "metadata": {},
   "outputs": [
    {
     "data": {
      "text/plain": [
       "<AxesSubplot:xlabel='Cantidad_de_usuarios', ylabel='lenguajes'>"
      ]
     },
     "execution_count": 23,
     "metadata": {},
     "output_type": "execute_result"
    },
    {
     "data": {
      "image/png": "[encoded data removed]",
      "text/plain": [
       "<Figure size 640x480 with 1 Axes>"
      ]
     },
     "metadata": {},
     "output_type": "display_data"
    }
   ],
   "source": [
    "sns.barplot(data = df_lenguajes, x='Cantidad_de_usuarios', y = \"lenguajes\"  )"
   ]
  },
  {
   "attachments": {},
   "cell_type": "markdown",
   "metadata": {},
   "source": [
    "VAMOS A FILTRAR POR LA COLUMNA Q8 PARA VER LOS LENGUAJES MÁS RECOMENDADOS\n",
    "\n",
    "QUE LENGUAJES RECOMIENDAN"
   ]
  },
  {
   "cell_type": "code",
   "execution_count": 24,
   "metadata": {},
   "outputs": [
    {
     "data": {
      "text/plain": [
       "['Python',\n",
       " 'R',\n",
       " 'SQL',\n",
       " 'C[^\\\\+]',\n",
       " 'C\\\\+\\\\+',\n",
       " 'Java',\n",
       " 'Javascript',\n",
       " 'Julia',\n",
       " 'Swift',\n",
       " 'Bash',\n",
       " 'MATLAB',\n",
       " 'Other',\n",
       " 'None']"
      ]
     },
     "execution_count": 24,
     "metadata": {},
     "output_type": "execute_result"
    }
   ],
   "source": [
    "lista_lenguajes"
   ]
  },
  {
   "cell_type": "code",
   "execution_count": 25,
   "metadata": {},
   "outputs": [
    {
     "data": {
      "text/plain": [
       "array(['Python', 'R', 'C', 'SQL', nan, 'Java', 'C++', 'MATLAB', 'Other',\n",
       "       'Julia', 'Javascript', 'Bash', 'None', 'Swift'], dtype=object)"
      ]
     },
     "execution_count": 25,
     "metadata": {},
     "output_type": "execute_result"
    }
   ],
   "source": [
    "df_data[\"len_recom\"].unique()"
   ]
  },
  {
   "cell_type": "code",
   "execution_count": 26,
   "metadata": {},
   "outputs": [
    {
     "data": {
      "text/html": [
       "<div>\n",
       "<style scoped>\n",
       "    .dataframe tbody tr th:only-of-type {\n",
       "        vertical-align: middle;\n",
       "    }\n",
       "\n",
       "    .dataframe tbody tr th {\n",
       "        vertical-align: top;\n",
       "    }\n",
       "\n",
       "    .dataframe thead th {\n",
       "        text-align: right;\n",
       "    }\n",
       "</style>\n",
       "<table border=\"1\" class=\"dataframe\">\n",
       "  <thead>\n",
       "    <tr style=\"text-align: right;\">\n",
       "      <th></th>\n",
       "      <th>index</th>\n",
       "      <th>len_recom</th>\n",
       "    </tr>\n",
       "  </thead>\n",
       "  <tbody>\n",
       "    <tr>\n",
       "      <th>0</th>\n",
       "      <td>Python</td>\n",
       "      <td>2195</td>\n",
       "    </tr>\n",
       "    <tr>\n",
       "      <th>1</th>\n",
       "      <td>SQL</td>\n",
       "      <td>349</td>\n",
       "    </tr>\n",
       "    <tr>\n",
       "      <th>2</th>\n",
       "      <td>R</td>\n",
       "      <td>263</td>\n",
       "    </tr>\n",
       "    <tr>\n",
       "      <th>3</th>\n",
       "      <td>C++</td>\n",
       "      <td>39</td>\n",
       "    </tr>\n",
       "    <tr>\n",
       "      <th>4</th>\n",
       "      <td>Java</td>\n",
       "      <td>30</td>\n",
       "    </tr>\n",
       "    <tr>\n",
       "      <th>5</th>\n",
       "      <td>C</td>\n",
       "      <td>25</td>\n",
       "    </tr>\n",
       "    <tr>\n",
       "      <th>6</th>\n",
       "      <td>Other</td>\n",
       "      <td>24</td>\n",
       "    </tr>\n",
       "    <tr>\n",
       "      <th>7</th>\n",
       "      <td>MATLAB</td>\n",
       "      <td>20</td>\n",
       "    </tr>\n",
       "    <tr>\n",
       "      <th>8</th>\n",
       "      <td>Julia</td>\n",
       "      <td>14</td>\n",
       "    </tr>\n",
       "    <tr>\n",
       "      <th>9</th>\n",
       "      <td>None</td>\n",
       "      <td>14</td>\n",
       "    </tr>\n",
       "    <tr>\n",
       "      <th>10</th>\n",
       "      <td>Javascript</td>\n",
       "      <td>13</td>\n",
       "    </tr>\n",
       "    <tr>\n",
       "      <th>11</th>\n",
       "      <td>Bash</td>\n",
       "      <td>6</td>\n",
       "    </tr>\n",
       "    <tr>\n",
       "      <th>12</th>\n",
       "      <td>Swift</td>\n",
       "      <td>1</td>\n",
       "    </tr>\n",
       "  </tbody>\n",
       "</table>\n",
       "</div>"
      ],
      "text/plain": [
       "         index  len_recom\n",
       "0       Python       2195\n",
       "1          SQL        349\n",
       "2            R        263\n",
       "3          C++         39\n",
       "4         Java         30\n",
       "5            C         25\n",
       "6        Other         24\n",
       "7       MATLAB         20\n",
       "8        Julia         14\n",
       "9         None         14\n",
       "10  Javascript         13\n",
       "11        Bash          6\n",
       "12       Swift          1"
      ]
     },
     "execution_count": 26,
     "metadata": {},
     "output_type": "execute_result"
    }
   ],
   "source": [
    "df_lenguaje_recomendado = df_data[\"len_recom\"].value_counts().reset_index()\n",
    "df_lenguaje_recomendado"
   ]
  },
  {
   "cell_type": "code",
   "execution_count": 27,
   "metadata": {},
   "outputs": [
    {
     "data": {
      "text/plain": [
       "<AxesSubplot:xlabel='index', ylabel='len_recom'>"
      ]
     },
     "execution_count": 27,
     "metadata": {},
     "output_type": "execute_result"
    },
    {
     "data": {
      "image/png": "[encoded data removed]",
      "text/plain": [
       "<Figure size 1500x800 with 1 Axes>"
      ]
     },
     "metadata": {},
     "output_type": "display_data"
    }
   ],
   "source": [
    "plt.figure(figsize = (15,8))\n",
    "sns.barplot(x= \"index\",y = \"len_recom\", data = df_lenguaje_recomendado)"
   ]
  },
  {
   "attachments": {},
   "cell_type": "markdown",
   "metadata": {},
   "source": [
    "La mayoría de analistas recomiendan empezar estudiando python y, en menor medida, SQL y R."
   ]
  },
  {
   "cell_type": "code",
   "execution_count": 28,
   "metadata": {},
   "outputs": [
    {
     "data": {
      "text/plain": [
       "array(['20+ years', '< 1 years', '3-5 years', '1-3 years', '5-10 years',\n",
       "       'I have never written code', '10-20 years'], dtype=object)"
      ]
     },
     "execution_count": 28,
     "metadata": {},
     "output_type": "execute_result"
    }
   ],
   "source": [
    "df_data[\"tiempo_cod\"].unique()"
   ]
  },
  {
   "cell_type": "code",
   "execution_count": 29,
   "metadata": {},
   "outputs": [
    {
     "data": {
      "text/plain": [
       "<AxesSubplot:xlabel='tiempo_cod', ylabel='count'>"
      ]
     },
     "execution_count": 29,
     "metadata": {},
     "output_type": "execute_result"
    },
    {
     "data": {
      "image/png": "[encoded data removed]",
      "text/plain": [
       "<Figure size 1500x800 with 1 Axes>"
      ]
     },
     "metadata": {},
     "output_type": "display_data"
    }
   ],
   "source": [
    "plt.figure(figsize = (15,8))\n",
    "sns.countplot(x= df_data[\"tiempo_cod\"], data = df_data)"
   ]
  },
  {
   "cell_type": "markdown",
   "metadata": {},
   "source": [
    "Vemos que la mayoría de analistas tienen menos de 5 años de experiencia."
   ]
  },
  {
   "attachments": {},
   "cell_type": "markdown",
   "metadata": {},
   "source": []
  },
  {
   "cell_type": "code",
   "execution_count": 30,
   "metadata": {},
   "outputs": [],
   "source": [
    "lista_entornos = [\"JupyterLab\", \"RStudio\", \"Visual Studio\", \"Visual Studio Code \\(VSCode\\)\", \"PyCharm\", \"Spyder\", \"Notepad\\+\\+\", \"Sublime Text\",\n",
    "                  \"Vim\", \"Emacs\", \"MATLAB\", \"Jupyter Notebook\", \"None\",\"Other\"]"
   ]
  },
  {
   "cell_type": "code",
   "execution_count": 31,
   "metadata": {},
   "outputs": [],
   "source": [
    "def entornos(columna,lista):\n",
    "    valores = []\n",
    "    for elemento in lista:\n",
    "        valor = columna.str.contains(elemento, regex = True).sum() \n",
    "        valores.append(valor)\n",
    "    return valores"
   ]
  },
  {
   "cell_type": "code",
   "execution_count": 32,
   "metadata": {},
   "outputs": [],
   "source": [
    "valores_entornos = entornos(df_data[\"entorno_ID\"], lista_entornos)"
   ]
  },
  {
   "cell_type": "code",
   "execution_count": 33,
   "metadata": {},
   "outputs": [],
   "source": [
    "lista_entornos_usados = lista_entornos , valores_entornos"
   ]
  },
  {
   "cell_type": "code",
   "execution_count": 34,
   "metadata": {},
   "outputs": [
    {
     "data": {
      "text/html": [
       "<div>\n",
       "<style scoped>\n",
       "    .dataframe tbody tr th:only-of-type {\n",
       "        vertical-align: middle;\n",
       "    }\n",
       "\n",
       "    .dataframe tbody tr th {\n",
       "        vertical-align: top;\n",
       "    }\n",
       "\n",
       "    .dataframe thead th {\n",
       "        text-align: right;\n",
       "    }\n",
       "</style>\n",
       "<table border=\"1\" class=\"dataframe\">\n",
       "  <thead>\n",
       "    <tr style=\"text-align: right;\">\n",
       "      <th></th>\n",
       "      <th>0</th>\n",
       "      <th>1</th>\n",
       "    </tr>\n",
       "  </thead>\n",
       "  <tbody>\n",
       "    <tr>\n",
       "      <th>0</th>\n",
       "      <td>JupyterLab</td>\n",
       "      <td>634</td>\n",
       "    </tr>\n",
       "    <tr>\n",
       "      <th>1</th>\n",
       "      <td>RStudio</td>\n",
       "      <td>820</td>\n",
       "    </tr>\n",
       "    <tr>\n",
       "      <th>2</th>\n",
       "      <td>Visual Studio</td>\n",
       "      <td>1144</td>\n",
       "    </tr>\n",
       "    <tr>\n",
       "      <th>3</th>\n",
       "      <td>Visual Studio Code \\(VSCode\\)</td>\n",
       "      <td>865</td>\n",
       "    </tr>\n",
       "    <tr>\n",
       "      <th>4</th>\n",
       "      <td>PyCharm</td>\n",
       "      <td>728</td>\n",
       "    </tr>\n",
       "    <tr>\n",
       "      <th>5</th>\n",
       "      <td>Spyder</td>\n",
       "      <td>476</td>\n",
       "    </tr>\n",
       "    <tr>\n",
       "      <th>6</th>\n",
       "      <td>Notepad\\+\\+</td>\n",
       "      <td>539</td>\n",
       "    </tr>\n",
       "    <tr>\n",
       "      <th>7</th>\n",
       "      <td>Sublime Text</td>\n",
       "      <td>259</td>\n",
       "    </tr>\n",
       "    <tr>\n",
       "      <th>8</th>\n",
       "      <td>Vim</td>\n",
       "      <td>86</td>\n",
       "    </tr>\n",
       "    <tr>\n",
       "      <th>9</th>\n",
       "      <td>Emacs</td>\n",
       "      <td>86</td>\n",
       "    </tr>\n",
       "    <tr>\n",
       "      <th>10</th>\n",
       "      <td>MATLAB</td>\n",
       "      <td>166</td>\n",
       "    </tr>\n",
       "    <tr>\n",
       "      <th>11</th>\n",
       "      <td>Jupyter Notebook</td>\n",
       "      <td>2149</td>\n",
       "    </tr>\n",
       "    <tr>\n",
       "      <th>12</th>\n",
       "      <td>None</td>\n",
       "      <td>90</td>\n",
       "    </tr>\n",
       "    <tr>\n",
       "      <th>13</th>\n",
       "      <td>Other</td>\n",
       "      <td>154</td>\n",
       "    </tr>\n",
       "  </tbody>\n",
       "</table>\n",
       "</div>"
      ],
      "text/plain": [
       "                                0     1\n",
       "0                      JupyterLab   634\n",
       "1                         RStudio   820\n",
       "2                   Visual Studio  1144\n",
       "3   Visual Studio Code \\(VSCode\\)   865\n",
       "4                         PyCharm   728\n",
       "5                          Spyder   476\n",
       "6                     Notepad\\+\\+   539\n",
       "7                    Sublime Text   259\n",
       "8                             Vim    86\n",
       "9                           Emacs    86\n",
       "10                         MATLAB   166\n",
       "11               Jupyter Notebook  2149\n",
       "12                           None    90\n",
       "13                          Other   154"
      ]
     },
     "execution_count": 34,
     "metadata": {},
     "output_type": "execute_result"
    }
   ],
   "source": [
    "df_entornos = pd.DataFrame(lista_entornos_usados).T\n",
    "df_entornos"
   ]
  },
  {
   "cell_type": "code",
   "execution_count": 35,
   "metadata": {},
   "outputs": [],
   "source": [
    "nombre_columnas = {0: \"Entornos\", 1: \"Cantidad_de_usuarios\"}"
   ]
  },
  {
   "cell_type": "code",
   "execution_count": 36,
   "metadata": {},
   "outputs": [],
   "source": [
    "df_entornos.rename(columns = nombre_columnas, inplace = True)"
   ]
  },
  {
   "cell_type": "code",
   "execution_count": 37,
   "metadata": {},
   "outputs": [
    {
     "data": {
      "text/html": [
       "<div>\n",
       "<style scoped>\n",
       "    .dataframe tbody tr th:only-of-type {\n",
       "        vertical-align: middle;\n",
       "    }\n",
       "\n",
       "    .dataframe tbody tr th {\n",
       "        vertical-align: top;\n",
       "    }\n",
       "\n",
       "    .dataframe thead th {\n",
       "        text-align: right;\n",
       "    }\n",
       "</style>\n",
       "<table border=\"1\" class=\"dataframe\">\n",
       "  <thead>\n",
       "    <tr style=\"text-align: right;\">\n",
       "      <th></th>\n",
       "      <th>index</th>\n",
       "      <th>len_recom</th>\n",
       "    </tr>\n",
       "  </thead>\n",
       "  <tbody>\n",
       "    <tr>\n",
       "      <th>0</th>\n",
       "      <td>Python</td>\n",
       "      <td>2195</td>\n",
       "    </tr>\n",
       "    <tr>\n",
       "      <th>1</th>\n",
       "      <td>SQL</td>\n",
       "      <td>349</td>\n",
       "    </tr>\n",
       "    <tr>\n",
       "      <th>2</th>\n",
       "      <td>R</td>\n",
       "      <td>263</td>\n",
       "    </tr>\n",
       "    <tr>\n",
       "      <th>3</th>\n",
       "      <td>C++</td>\n",
       "      <td>39</td>\n",
       "    </tr>\n",
       "    <tr>\n",
       "      <th>4</th>\n",
       "      <td>Java</td>\n",
       "      <td>30</td>\n",
       "    </tr>\n",
       "    <tr>\n",
       "      <th>5</th>\n",
       "      <td>C</td>\n",
       "      <td>25</td>\n",
       "    </tr>\n",
       "    <tr>\n",
       "      <th>6</th>\n",
       "      <td>Other</td>\n",
       "      <td>24</td>\n",
       "    </tr>\n",
       "    <tr>\n",
       "      <th>7</th>\n",
       "      <td>MATLAB</td>\n",
       "      <td>20</td>\n",
       "    </tr>\n",
       "    <tr>\n",
       "      <th>8</th>\n",
       "      <td>Julia</td>\n",
       "      <td>14</td>\n",
       "    </tr>\n",
       "    <tr>\n",
       "      <th>9</th>\n",
       "      <td>None</td>\n",
       "      <td>14</td>\n",
       "    </tr>\n",
       "    <tr>\n",
       "      <th>10</th>\n",
       "      <td>Javascript</td>\n",
       "      <td>13</td>\n",
       "    </tr>\n",
       "    <tr>\n",
       "      <th>11</th>\n",
       "      <td>Bash</td>\n",
       "      <td>6</td>\n",
       "    </tr>\n",
       "    <tr>\n",
       "      <th>12</th>\n",
       "      <td>Swift</td>\n",
       "      <td>1</td>\n",
       "    </tr>\n",
       "  </tbody>\n",
       "</table>\n",
       "</div>"
      ],
      "text/plain": [
       "         index  len_recom\n",
       "0       Python       2195\n",
       "1          SQL        349\n",
       "2            R        263\n",
       "3          C++         39\n",
       "4         Java         30\n",
       "5            C         25\n",
       "6        Other         24\n",
       "7       MATLAB         20\n",
       "8        Julia         14\n",
       "9         None         14\n",
       "10  Javascript         13\n",
       "11        Bash          6\n",
       "12       Swift          1"
      ]
     },
     "execution_count": 37,
     "metadata": {},
     "output_type": "execute_result"
    }
   ],
   "source": [
    "df_data[\"len_recom\"].value_counts().reset_index()"
   ]
  },
  {
   "cell_type": "code",
   "execution_count": 38,
   "metadata": {},
   "outputs": [
    {
     "data": {
      "text/html": [
       "<div>\n",
       "<style scoped>\n",
       "    .dataframe tbody tr th:only-of-type {\n",
       "        vertical-align: middle;\n",
       "    }\n",
       "\n",
       "    .dataframe tbody tr th {\n",
       "        vertical-align: top;\n",
       "    }\n",
       "\n",
       "    .dataframe thead th {\n",
       "        text-align: right;\n",
       "    }\n",
       "</style>\n",
       "<table border=\"1\" class=\"dataframe\">\n",
       "  <thead>\n",
       "    <tr style=\"text-align: right;\">\n",
       "      <th></th>\n",
       "      <th>Entornos</th>\n",
       "      <th>Cantidad_de_usuarios</th>\n",
       "    </tr>\n",
       "  </thead>\n",
       "  <tbody>\n",
       "    <tr>\n",
       "      <th>11</th>\n",
       "      <td>Jupyter Notebook</td>\n",
       "      <td>2149</td>\n",
       "    </tr>\n",
       "    <tr>\n",
       "      <th>2</th>\n",
       "      <td>Visual Studio</td>\n",
       "      <td>1144</td>\n",
       "    </tr>\n",
       "    <tr>\n",
       "      <th>3</th>\n",
       "      <td>Visual Studio Code \\(VSCode\\)</td>\n",
       "      <td>865</td>\n",
       "    </tr>\n",
       "    <tr>\n",
       "      <th>1</th>\n",
       "      <td>RStudio</td>\n",
       "      <td>820</td>\n",
       "    </tr>\n",
       "    <tr>\n",
       "      <th>4</th>\n",
       "      <td>PyCharm</td>\n",
       "      <td>728</td>\n",
       "    </tr>\n",
       "    <tr>\n",
       "      <th>0</th>\n",
       "      <td>JupyterLab</td>\n",
       "      <td>634</td>\n",
       "    </tr>\n",
       "    <tr>\n",
       "      <th>6</th>\n",
       "      <td>Notepad\\+\\+</td>\n",
       "      <td>539</td>\n",
       "    </tr>\n",
       "    <tr>\n",
       "      <th>5</th>\n",
       "      <td>Spyder</td>\n",
       "      <td>476</td>\n",
       "    </tr>\n",
       "    <tr>\n",
       "      <th>7</th>\n",
       "      <td>Sublime Text</td>\n",
       "      <td>259</td>\n",
       "    </tr>\n",
       "    <tr>\n",
       "      <th>10</th>\n",
       "      <td>MATLAB</td>\n",
       "      <td>166</td>\n",
       "    </tr>\n",
       "    <tr>\n",
       "      <th>13</th>\n",
       "      <td>Other</td>\n",
       "      <td>154</td>\n",
       "    </tr>\n",
       "    <tr>\n",
       "      <th>12</th>\n",
       "      <td>None</td>\n",
       "      <td>90</td>\n",
       "    </tr>\n",
       "    <tr>\n",
       "      <th>8</th>\n",
       "      <td>Vim</td>\n",
       "      <td>86</td>\n",
       "    </tr>\n",
       "    <tr>\n",
       "      <th>9</th>\n",
       "      <td>Emacs</td>\n",
       "      <td>86</td>\n",
       "    </tr>\n",
       "  </tbody>\n",
       "</table>\n",
       "</div>"
      ],
      "text/plain": [
       "                         Entornos Cantidad_de_usuarios\n",
       "11               Jupyter Notebook                 2149\n",
       "2                   Visual Studio                 1144\n",
       "3   Visual Studio Code \\(VSCode\\)                  865\n",
       "1                         RStudio                  820\n",
       "4                         PyCharm                  728\n",
       "0                      JupyterLab                  634\n",
       "6                     Notepad\\+\\+                  539\n",
       "5                          Spyder                  476\n",
       "7                    Sublime Text                  259\n",
       "10                         MATLAB                  166\n",
       "13                          Other                  154\n",
       "12                           None                   90\n",
       "8                             Vim                   86\n",
       "9                           Emacs                   86"
      ]
     },
     "execution_count": 38,
     "metadata": {},
     "output_type": "execute_result"
    }
   ],
   "source": [
    "df_entornos = df_entornos.sort_values(by = \"Cantidad_de_usuarios\", ascending = False)\n",
    "df_entornos"
   ]
  },
  {
   "cell_type": "code",
   "execution_count": 39,
   "metadata": {},
   "outputs": [
    {
     "data": {
      "text/plain": [
       "<AxesSubplot:xlabel='Cantidad_de_usuarios', ylabel='lenguajes'>"
      ]
     },
     "execution_count": 39,
     "metadata": {},
     "output_type": "execute_result"
    },
    {
     "data": {
      "image/png": "[encoded data removed]",
      "text/plain": [
       "<Figure size 640x480 with 1 Axes>"
      ]
     },
     "metadata": {},
     "output_type": "display_data"
    }
   ],
   "source": [
    "sns.barplot(data = df_lenguajes, x='Cantidad_de_usuarios', y = \"lenguajes\"  )"
   ]
  },
  {
   "cell_type": "code",
   "execution_count": 40,
   "metadata": {},
   "outputs": [
    {
     "data": {
      "image/png": "[encoded data removed]",
      "text/plain": [
       "<Figure size 1800x800 with 1 Axes>"
      ]
     },
     "metadata": {},
     "output_type": "display_data"
    }
   ],
   "source": [
    "plt.figure(figsize = (18,8))\n",
    "sns.barplot(x= \"Entornos\", y = \"Cantidad_de_usuarios\", data = df_entornos)\n",
    "plt.tick_params(rotation = 45)\n",
    "plt.tight_layout()"
   ]
  },
  {
   "cell_type": "code",
   "execution_count": 41,
   "metadata": {},
   "outputs": [
    {
     "data": {
      "text/html": [
       "<div>\n",
       "<style scoped>\n",
       "    .dataframe tbody tr th:only-of-type {\n",
       "        vertical-align: middle;\n",
       "    }\n",
       "\n",
       "    .dataframe tbody tr th {\n",
       "        vertical-align: top;\n",
       "    }\n",
       "\n",
       "    .dataframe thead th {\n",
       "        text-align: right;\n",
       "    }\n",
       "</style>\n",
       "<table border=\"1\" class=\"dataframe\">\n",
       "  <thead>\n",
       "    <tr style=\"text-align: right;\">\n",
       "      <th></th>\n",
       "      <th>edad</th>\n",
       "      <th>genero</th>\n",
       "      <th>pais</th>\n",
       "      <th>nivel_estudios</th>\n",
       "      <th>tipo_trabajo</th>\n",
       "      <th>tiempo_cod</th>\n",
       "      <th>len_recom</th>\n",
       "      <th>tiempo_use_ML</th>\n",
       "      <th>sector_empresa</th>\n",
       "      <th>tamaño_empresa</th>\n",
       "      <th>uso_ML</th>\n",
       "      <th>salario</th>\n",
       "      <th>BBDD</th>\n",
       "      <th>herramientas_BI</th>\n",
       "      <th>herramienta_principal</th>\n",
       "      <th>lenguaje_cod</th>\n",
       "      <th>entorno_ID</th>\n",
       "      <th>librerias</th>\n",
       "      <th>librerias_ML</th>\n",
       "      <th>algoritmos_ML</th>\n",
       "      <th>actividades_trabajo</th>\n",
       "      <th>herramientas_BI2</th>\n",
       "    </tr>\n",
       "  </thead>\n",
       "  <tbody>\n",
       "    <tr>\n",
       "      <th>0</th>\n",
       "      <td>50-54</td>\n",
       "      <td>Man</td>\n",
       "      <td>India</td>\n",
       "      <td>Bachelor’s degree</td>\n",
       "      <td>Other</td>\n",
       "      <td>5-10 years</td>\n",
       "      <td>Python</td>\n",
       "      <td>5-10 years</td>\n",
       "      <td>Manufacturing/Fabrication</td>\n",
       "      <td>50-249 employees</td>\n",
       "      <td>No (we do not use ML methods)</td>\n",
       "      <td>25,000-29,999</td>\n",
       "      <td>NaN</td>\n",
       "      <td>None</td>\n",
       "      <td>Local development environments (RStudio, Jupyt...</td>\n",
       "      <td>Python, R</td>\n",
       "      <td>Vim / Emacs</td>\n",
       "      <td>Matplotlib ,Seaborn ,Ggplot / ggplot2 ,Shiny ...</td>\n",
       "      <td>Scikit-learn , TensorFlow ,Caret</td>\n",
       "      <td>Linear or Logistic Regression, Decision Trees ...</td>\n",
       "      <td>None of these activities are an important par...</td>\n",
       "      <td>NaN</td>\n",
       "    </tr>\n",
       "    <tr>\n",
       "      <th>1</th>\n",
       "      <td>50-54</td>\n",
       "      <td>Man</td>\n",
       "      <td>Indonesia</td>\n",
       "      <td>Master’s degree</td>\n",
       "      <td>Program/Project Manager</td>\n",
       "      <td>20+ years</td>\n",
       "      <td>Python</td>\n",
       "      <td>&lt; 1 year</td>\n",
       "      <td>Manufacturing/Fabrication</td>\n",
       "      <td>1000-9,999 employees</td>\n",
       "      <td>We are exploring ML methods (and may one day p...</td>\n",
       "      <td>60,000-69,999</td>\n",
       "      <td>NaN</td>\n",
       "      <td>NaN</td>\n",
       "      <td>Advanced statistical software (SPSS, SAS, etc.)</td>\n",
       "      <td>SQL, C, C++, Java</td>\n",
       "      <td>Notepad++,Jupyter Notebook</td>\n",
       "      <td>Matplotlib</td>\n",
       "      <td>Scikit-learn</td>\n",
       "      <td>Linear or Logistic Regression, Decision Trees ...</td>\n",
       "      <td>Build and/or run the data infrastructure that...</td>\n",
       "      <td>NaN</td>\n",
       "    </tr>\n",
       "    <tr>\n",
       "      <th>2</th>\n",
       "      <td>22-24</td>\n",
       "      <td>Man</td>\n",
       "      <td>Pakistan</td>\n",
       "      <td>Master’s degree</td>\n",
       "      <td>Software Engineer</td>\n",
       "      <td>1-3 years</td>\n",
       "      <td>Python</td>\n",
       "      <td>I do not use machine learning methods</td>\n",
       "      <td>Academics/Education</td>\n",
       "      <td>1000-9,999 employees</td>\n",
       "      <td>I do not know</td>\n",
       "      <td>$0-999</td>\n",
       "      <td>MySQL</td>\n",
       "      <td>None</td>\n",
       "      <td>Basic statistical software (Microsoft Excel, G...</td>\n",
       "      <td>Python, C++, Java</td>\n",
       "      <td>PyCharm ,Jupyter Notebook, Other</td>\n",
       "      <td>Matplotlib</td>\n",
       "      <td>NaN</td>\n",
       "      <td>NaN</td>\n",
       "      <td>None of these activities are an important par...</td>\n",
       "      <td>NaN</td>\n",
       "    </tr>\n",
       "    <tr>\n",
       "      <th>3</th>\n",
       "      <td>45-49</td>\n",
       "      <td>Man</td>\n",
       "      <td>Mexico</td>\n",
       "      <td>Doctoral degree</td>\n",
       "      <td>Research Scientist</td>\n",
       "      <td>20+ years</td>\n",
       "      <td>Python</td>\n",
       "      <td>5-10 years</td>\n",
       "      <td>Academics/Education</td>\n",
       "      <td>1000-9,999 employees</td>\n",
       "      <td>I do not know</td>\n",
       "      <td>30,000-39,999</td>\n",
       "      <td>NaN</td>\n",
       "      <td>NaN</td>\n",
       "      <td>Local development environments (RStudio, Jupyt...</td>\n",
       "      <td>Python</td>\n",
       "      <td>Spyder,Jupyter Notebook</td>\n",
       "      <td>Matplotlib</td>\n",
       "      <td>Scikit-learn , TensorFlow ,Keras</td>\n",
       "      <td>Dense Neural Networks (MLPs, etc), Convolutio...</td>\n",
       "      <td>Do research that advances the state of the ar...</td>\n",
       "      <td>NaN</td>\n",
       "    </tr>\n",
       "    <tr>\n",
       "      <th>4</th>\n",
       "      <td>45-49</td>\n",
       "      <td>Man</td>\n",
       "      <td>India</td>\n",
       "      <td>Doctoral degree</td>\n",
       "      <td>Other</td>\n",
       "      <td>&lt; 1 years</td>\n",
       "      <td>Python</td>\n",
       "      <td>10-20 years</td>\n",
       "      <td>Academics/Education</td>\n",
       "      <td>50-249 employees</td>\n",
       "      <td>We use ML methods for generating insights (but...</td>\n",
       "      <td>30,000-39,999</td>\n",
       "      <td>NaN</td>\n",
       "      <td>Microsoft Power BI</td>\n",
       "      <td>Local development environments (RStudio, Jupyt...</td>\n",
       "      <td>Python, C, MATLAB</td>\n",
       "      <td>Spyder,MATLAB ,Jupyter Notebook</td>\n",
       "      <td>Matplotlib ,Seaborn ,Ggplot / ggplot2</td>\n",
       "      <td>Scikit-learn ,PyTorch ,LightGBM</td>\n",
       "      <td>Linear or Logistic Regression, Decision Trees ...</td>\n",
       "      <td>Analyze and understand data to influence produ...</td>\n",
       "      <td>NaN</td>\n",
       "    </tr>\n",
       "  </tbody>\n",
       "</table>\n",
       "</div>"
      ],
      "text/plain": [
       "    edad genero       pais     nivel_estudios             tipo_trabajo  \\\n",
       "0  50-54    Man      India  Bachelor’s degree                    Other   \n",
       "1  50-54    Man  Indonesia    Master’s degree  Program/Project Manager   \n",
       "2  22-24    Man   Pakistan    Master’s degree        Software Engineer   \n",
       "3  45-49    Man     Mexico    Doctoral degree       Research Scientist   \n",
       "4  45-49    Man      India    Doctoral degree                    Other   \n",
       "\n",
       "   tiempo_cod len_recom                          tiempo_use_ML  \\\n",
       "0  5-10 years    Python                             5-10 years   \n",
       "1   20+ years    Python                               < 1 year   \n",
       "2   1-3 years    Python  I do not use machine learning methods   \n",
       "3   20+ years    Python                             5-10 years   \n",
       "4   < 1 years    Python                            10-20 years   \n",
       "\n",
       "              sector_empresa        tamaño_empresa  \\\n",
       "0  Manufacturing/Fabrication      50-249 employees   \n",
       "1  Manufacturing/Fabrication  1000-9,999 employees   \n",
       "2        Academics/Education  1000-9,999 employees   \n",
       "3        Academics/Education  1000-9,999 employees   \n",
       "4        Academics/Education      50-249 employees   \n",
       "\n",
       "                                              uso_ML        salario    BBDD  \\\n",
       "0                      No (we do not use ML methods)  25,000-29,999     NaN   \n",
       "1  We are exploring ML methods (and may one day p...  60,000-69,999     NaN   \n",
       "2                                      I do not know         $0-999  MySQL    \n",
       "3                                      I do not know  30,000-39,999     NaN   \n",
       "4  We use ML methods for generating insights (but...  30,000-39,999     NaN   \n",
       "\n",
       "       herramientas_BI                              herramienta_principal  \\\n",
       "0                 None  Local development environments (RStudio, Jupyt...   \n",
       "1                  NaN    Advanced statistical software (SPSS, SAS, etc.)   \n",
       "2                 None  Basic statistical software (Microsoft Excel, G...   \n",
       "3                  NaN  Local development environments (RStudio, Jupyt...   \n",
       "4   Microsoft Power BI  Local development environments (RStudio, Jupyt...   \n",
       "\n",
       "         lenguaje_cod                        entorno_ID  \\\n",
       "0           Python, R                       Vim / Emacs   \n",
       "1   SQL, C, C++, Java        Notepad++,Jupyter Notebook   \n",
       "2   Python, C++, Java  PyCharm ,Jupyter Notebook, Other   \n",
       "3              Python           Spyder,Jupyter Notebook   \n",
       "4   Python, C, MATLAB   Spyder,MATLAB ,Jupyter Notebook   \n",
       "\n",
       "                                           librerias  \\\n",
       "0   Matplotlib ,Seaborn ,Ggplot / ggplot2 ,Shiny ...   \n",
       "1                                        Matplotlib    \n",
       "2                                        Matplotlib    \n",
       "3                                        Matplotlib    \n",
       "4             Matplotlib ,Seaborn ,Ggplot / ggplot2    \n",
       "\n",
       "                        librerias_ML  \\\n",
       "0  Scikit-learn , TensorFlow ,Caret    \n",
       "1                      Scikit-learn    \n",
       "2                                NaN   \n",
       "3  Scikit-learn , TensorFlow ,Keras    \n",
       "4   Scikit-learn ,PyTorch ,LightGBM    \n",
       "\n",
       "                                       algoritmos_ML  \\\n",
       "0  Linear or Logistic Regression, Decision Trees ...   \n",
       "1  Linear or Logistic Regression, Decision Trees ...   \n",
       "2                                                NaN   \n",
       "3   Dense Neural Networks (MLPs, etc), Convolutio...   \n",
       "4  Linear or Logistic Regression, Decision Trees ...   \n",
       "\n",
       "                                 actividades_trabajo herramientas_BI2  \n",
       "0   None of these activities are an important par...              NaN  \n",
       "1   Build and/or run the data infrastructure that...              NaN  \n",
       "2   None of these activities are an important par...              NaN  \n",
       "3   Do research that advances the state of the ar...              NaN  \n",
       "4  Analyze and understand data to influence produ...              NaN  "
      ]
     },
     "execution_count": 41,
     "metadata": {},
     "output_type": "execute_result"
    }
   ],
   "source": [
    "df.head()"
   ]
  },
  {
   "cell_type": "code",
   "execution_count": 42,
   "metadata": {},
   "outputs": [],
   "source": [
    "def sel_valores (columna,lista):\n",
    "    valores = []\n",
    "    for elemento in lista:\n",
    "        valor = columna.str.contains(elemento, case = True, regex = True).sum() \n",
    "        valores.append(valor)\n",
    "    return valores"
   ]
  },
  {
   "cell_type": "code",
   "execution_count": 43,
   "metadata": {},
   "outputs": [],
   "source": [
    "lista_librerias = ['Matplotlib', 'Seaborn', 'Plotly / Plotly Express', 'Ggplot / ggplot2', 'Shiny', 'D3 js', 'Altair', 'Bokeh', 'Geoplotlib', 'Leaflet / Folium', 'None', 'Other']"
   ]
  },
  {
   "cell_type": "code",
   "execution_count": 44,
   "metadata": {},
   "outputs": [
    {
     "data": {
      "text/plain": [
       "[1984, 1559, 796, 830, 235, 105, 50, 138, 198, 94, 420, 127]"
      ]
     },
     "execution_count": 44,
     "metadata": {},
     "output_type": "execute_result"
    }
   ],
   "source": [
    "librerias = sel_valores(df_data[\"librerias\"], lista_librerias)\n",
    "librerias"
   ]
  },
  {
   "cell_type": "code",
   "execution_count": 45,
   "metadata": {},
   "outputs": [
    {
     "data": {
      "text/plain": [
       "(['Matplotlib',\n",
       "  'Seaborn',\n",
       "  'Plotly / Plotly Express',\n",
       "  'Ggplot / ggplot2',\n",
       "  'Shiny',\n",
       "  'D3 js',\n",
       "  'Altair',\n",
       "  'Bokeh',\n",
       "  'Geoplotlib',\n",
       "  'Leaflet / Folium',\n",
       "  'None',\n",
       "  'Other'],\n",
       " [1984, 1559, 796, 830, 235, 105, 50, 138, 198, 94, 420, 127])"
      ]
     },
     "execution_count": 45,
     "metadata": {},
     "output_type": "execute_result"
    }
   ],
   "source": [
    "lista_total = lista_librerias, librerias\n",
    "lista_total"
   ]
  },
  {
   "cell_type": "code",
   "execution_count": 46,
   "metadata": {},
   "outputs": [
    {
     "data": {
      "text/html": [
       "<div>\n",
       "<style scoped>\n",
       "    .dataframe tbody tr th:only-of-type {\n",
       "        vertical-align: middle;\n",
       "    }\n",
       "\n",
       "    .dataframe tbody tr th {\n",
       "        vertical-align: top;\n",
       "    }\n",
       "\n",
       "    .dataframe thead th {\n",
       "        text-align: right;\n",
       "    }\n",
       "</style>\n",
       "<table border=\"1\" class=\"dataframe\">\n",
       "  <thead>\n",
       "    <tr style=\"text-align: right;\">\n",
       "      <th></th>\n",
       "      <th>Librerias</th>\n",
       "      <th>Cantidad_de_usuarios</th>\n",
       "    </tr>\n",
       "  </thead>\n",
       "  <tbody>\n",
       "    <tr>\n",
       "      <th>0</th>\n",
       "      <td>Matplotlib</td>\n",
       "      <td>1984</td>\n",
       "    </tr>\n",
       "    <tr>\n",
       "      <th>1</th>\n",
       "      <td>Seaborn</td>\n",
       "      <td>1559</td>\n",
       "    </tr>\n",
       "    <tr>\n",
       "      <th>2</th>\n",
       "      <td>Plotly / Plotly Express</td>\n",
       "      <td>796</td>\n",
       "    </tr>\n",
       "    <tr>\n",
       "      <th>3</th>\n",
       "      <td>Ggplot / ggplot2</td>\n",
       "      <td>830</td>\n",
       "    </tr>\n",
       "    <tr>\n",
       "      <th>4</th>\n",
       "      <td>Shiny</td>\n",
       "      <td>235</td>\n",
       "    </tr>\n",
       "    <tr>\n",
       "      <th>5</th>\n",
       "      <td>D3 js</td>\n",
       "      <td>105</td>\n",
       "    </tr>\n",
       "    <tr>\n",
       "      <th>6</th>\n",
       "      <td>Altair</td>\n",
       "      <td>50</td>\n",
       "    </tr>\n",
       "    <tr>\n",
       "      <th>7</th>\n",
       "      <td>Bokeh</td>\n",
       "      <td>138</td>\n",
       "    </tr>\n",
       "    <tr>\n",
       "      <th>8</th>\n",
       "      <td>Geoplotlib</td>\n",
       "      <td>198</td>\n",
       "    </tr>\n",
       "    <tr>\n",
       "      <th>9</th>\n",
       "      <td>Leaflet / Folium</td>\n",
       "      <td>94</td>\n",
       "    </tr>\n",
       "    <tr>\n",
       "      <th>10</th>\n",
       "      <td>None</td>\n",
       "      <td>420</td>\n",
       "    </tr>\n",
       "    <tr>\n",
       "      <th>11</th>\n",
       "      <td>Other</td>\n",
       "      <td>127</td>\n",
       "    </tr>\n",
       "  </tbody>\n",
       "</table>\n",
       "</div>"
      ],
      "text/plain": [
       "                  Librerias Cantidad_de_usuarios\n",
       "0                Matplotlib                 1984\n",
       "1                   Seaborn                 1559\n",
       "2   Plotly / Plotly Express                  796\n",
       "3          Ggplot / ggplot2                  830\n",
       "4                     Shiny                  235\n",
       "5                     D3 js                  105\n",
       "6                    Altair                   50\n",
       "7                     Bokeh                  138\n",
       "8                Geoplotlib                  198\n",
       "9          Leaflet / Folium                   94\n",
       "10                     None                  420\n",
       "11                    Other                  127"
      ]
     },
     "execution_count": 46,
     "metadata": {},
     "output_type": "execute_result"
    }
   ],
   "source": [
    "df_librerias = pd.DataFrame(lista_total).T\n",
    "nombre_columnas = {0: \"Librerias\", 1: \"Cantidad_de_usuarios\"}\n",
    "df_librerias.rename(columns = nombre_columnas, inplace = True)\n",
    "df_librerias\n"
   ]
  },
  {
   "cell_type": "code",
   "execution_count": 47,
   "metadata": {},
   "outputs": [
    {
     "data": {
      "image/png": "[encoded data removed]",
      "text/plain": [
       "<Figure size 640x480 with 1 Axes>"
      ]
     },
     "metadata": {},
     "output_type": "display_data"
    }
   ],
   "source": [
    "sns.barplot(data = df_librerias, x= 'Cantidad_de_usuarios', y = 'Librerias');"
   ]
  },
  {
   "cell_type": "code",
   "execution_count": 48,
   "metadata": {},
   "outputs": [],
   "source": [
    "df_data.to_csv(\"../archivos_editados/df_data.csv\")"
   ]
  }
 ],
 "metadata": {
  "kernelspec": {
   "display_name": "base",
   "language": "python",
   "name": "python3"
  },
  "language_info": {
   "codemirror_mode": {
    "name": "ipython",
    "version": 3
   },
   "file_extension": ".py",
   "mimetype": "text/x-python",
   "name": "python",
   "nbconvert_exporter": "python",
   "pygments_lexer": "ipython3",
   "version": "3.9.16"
  },
  "orig_nbformat": 4
 },
 "nbformat": 4,
 "nbformat_minor": 2
}
